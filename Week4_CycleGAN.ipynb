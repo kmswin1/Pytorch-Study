{
  "nbformat": 4,
  "nbformat_minor": 0,
  "metadata": {
    "colab": {
      "name": "Week4 - CycleGAN.ipynb",
      "version": "0.3.2",
      "provenance": [],
      "collapsed_sections": [],
      "include_colab_link": true
    },
    "kernelspec": {
      "name": "python3",
      "display_name": "Python 3"
    },
    "accelerator": "GPU"
  },
  "cells": [
    {
      "cell_type": "markdown",
      "metadata": {
        "id": "view-in-github",
        "colab_type": "text"
      },
      "source": [
        "<a href=\"https://colab.research.google.com/github/kmswin1/Pytorch-Study/blob/master/Week4_CycleGAN.ipynb\" target=\"_parent\"><img src=\"https://colab.research.google.com/assets/colab-badge.svg\" alt=\"Open In Colab\"/></a>"
      ]
    },
    {
      "metadata": {
        "id": "jiFMEbzG1IH1",
        "colab_type": "code",
        "colab": {
          "base_uri": "https://localhost:8080/",
          "height": 158
        },
        "outputId": "68e36d6b-b92b-489d-ed69-78e8e60ff9a5"
      },
      "cell_type": "code",
      "source": [
        "# 본인의 구글 드라이브와 연동하는 과정 1\n",
        "# 실행 후 밑에 나오는 링크에 들어가서 나오는 코드를 밑에 입력\n",
        "# Downloaded content \"Sample upload file content\" 라는 메시지가 나오면 OK\n",
        "\n",
        "# (런타임을 재시작한 경우) 아무 메시지 없이 계속 기다리는 상황이 있는데, 밑에 생기는 네모 빈 칸에 엔터 입력\n",
        "\n",
        "!pip install -U -q PyDrive\n",
        "\n",
        "from pydrive.auth import GoogleAuth\n",
        "from pydrive.drive import GoogleDrive\n",
        "from google.colab import auth\n",
        "from oauth2client.client import GoogleCredentials\n",
        "\n",
        "auth.authenticate_user()\n",
        "gauth = GoogleAuth()\n",
        "gauth.credentials = GoogleCredentials.get_application_default()\n",
        "drive = GoogleDrive(gauth)\n",
        "\n",
        "uploaded = drive.CreateFile({'title': 'Sample upload.txt'})\n",
        "uploaded.SetContentString('Sample upload file content')\n",
        "uploaded.Upload()\n",
        "print('Uploaded file with ID {}'.format(uploaded.get('id')))\n",
        "\n",
        "downloaded = drive.CreateFile({'id': uploaded.get('id')})\n",
        "print('Downloaded content \"{}\"'.format(downloaded.GetContentString()))"
      ],
      "execution_count": 0,
      "outputs": [
        {
          "output_type": "stream",
          "text": [
            "\u001b[?25l\r\u001b[K    1% |▎                               | 10kB 21.4MB/s eta 0:00:01\r\u001b[K    2% |▋                               | 20kB 3.1MB/s eta 0:00:01\r\u001b[K    3% |█                               | 30kB 4.5MB/s eta 0:00:01\r\u001b[K    4% |█▎                              | 40kB 2.9MB/s eta 0:00:01\r\u001b[K    5% |█▋                              | 51kB 3.6MB/s eta 0:00:01\r\u001b[K    6% |██                              | 61kB 4.3MB/s eta 0:00:01\r\u001b[K    7% |██▎                             | 71kB 4.8MB/s eta 0:00:01\r\u001b[K    8% |██▋                             | 81kB 5.4MB/s eta 0:00:01\r\u001b[K    9% |███                             | 92kB 6.0MB/s eta 0:00:01\r\u001b[K    10% |███▎                            | 102kB 4.8MB/s eta 0:00:01\r\u001b[K    11% |███▋                            | 112kB 4.8MB/s eta 0:00:01\r\u001b[K    12% |████                            | 122kB 6.7MB/s eta 0:00:01\r\u001b[K    13% |████▎                           | 133kB 6.7MB/s eta 0:00:01\r\u001b[K    14% |████▋                           | 143kB 12.3MB/s eta 0:00:01\r\u001b[K    15% |█████                           | 153kB 12.3MB/s eta 0:00:01\r\u001b[K    16% |█████▎                          | 163kB 12.2MB/s eta 0:00:01\r\u001b[K    17% |█████▋                          | 174kB 12.4MB/s eta 0:00:01\r\u001b[K    18% |██████                          | 184kB 12.5MB/s eta 0:00:01\r\u001b[K    19% |██████▎                         | 194kB 12.6MB/s eta 0:00:01\r\u001b[K    20% |██████▋                         | 204kB 41.6MB/s eta 0:00:01\r\u001b[K    21% |███████                         | 215kB 14.5MB/s eta 0:00:01\r\u001b[K    22% |███████▎                        | 225kB 14.6MB/s eta 0:00:01\r\u001b[K    23% |███████▋                        | 235kB 14.8MB/s eta 0:00:01\r\u001b[K    24% |████████                        | 245kB 14.7MB/s eta 0:00:01\r\u001b[K    25% |████████▎                       | 256kB 14.8MB/s eta 0:00:01\r\u001b[K    26% |████████▋                       | 266kB 14.2MB/s eta 0:00:01\r\u001b[K    27% |█████████                       | 276kB 14.3MB/s eta 0:00:01\r\u001b[K    29% |█████████▎                      | 286kB 14.3MB/s eta 0:00:01\r\u001b[K    30% |█████████▋                      | 296kB 14.2MB/s eta 0:00:01\r\u001b[K    31% |██████████                      | 307kB 14.6MB/s eta 0:00:01\r\u001b[K    32% |██████████▎                     | 317kB 41.8MB/s eta 0:00:01\r\u001b[K    33% |██████████▋                     | 327kB 41.2MB/s eta 0:00:01\r\u001b[K    34% |███████████                     | 337kB 41.7MB/s eta 0:00:01\r\u001b[K    35% |███████████▎                    | 348kB 39.4MB/s eta 0:00:01\r\u001b[K    36% |███████████▋                    | 358kB 39.3MB/s eta 0:00:01\r\u001b[K    37% |████████████                    | 368kB 44.3MB/s eta 0:00:01\r\u001b[K    38% |████████████▎                   | 378kB 45.2MB/s eta 0:00:01\r\u001b[K    39% |████████████▋                   | 389kB 45.2MB/s eta 0:00:01\r\u001b[K    40% |█████████████                   | 399kB 18.5MB/s eta 0:00:01\r\u001b[K    41% |█████████████▎                  | 409kB 18.2MB/s eta 0:00:01\r\u001b[K    42% |█████████████▋                  | 419kB 18.3MB/s eta 0:00:01\r\u001b[K    43% |██████████████                  | 430kB 18.2MB/s eta 0:00:01\r\u001b[K    44% |██████████████▎                 | 440kB 18.2MB/s eta 0:00:01\r\u001b[K    45% |██████████████▋                 | 450kB 18.6MB/s eta 0:00:01\r\u001b[K    46% |███████████████                 | 460kB 18.6MB/s eta 0:00:01\r\u001b[K    47% |███████████████▎                | 471kB 18.6MB/s eta 0:00:01\r\u001b[K    48% |███████████████▋                | 481kB 18.6MB/s eta 0:00:01\r\u001b[K    49% |████████████████                | 491kB 18.4MB/s eta 0:00:01\r\u001b[K    50% |████████████████▎               | 501kB 45.9MB/s eta 0:00:01\r\u001b[K    51% |████████████████▋               | 512kB 46.0MB/s eta 0:00:01\r\u001b[K    52% |█████████████████               | 522kB 47.7MB/s eta 0:00:01\r\u001b[K    53% |█████████████████▎              | 532kB 47.2MB/s eta 0:00:01\r\u001b[K    54% |█████████████████▋              | 542kB 47.6MB/s eta 0:00:01\r\u001b[K    55% |██████████████████              | 552kB 51.0MB/s eta 0:00:01\r\u001b[K    57% |██████████████████▎             | 563kB 51.5MB/s eta 0:00:01\r\u001b[K    58% |██████████████████▋             | 573kB 51.3MB/s eta 0:00:01\r\u001b[K    59% |███████████████████             | 583kB 51.0MB/s eta 0:00:01\r\u001b[K    60% |███████████████████▎            | 593kB 51.3MB/s eta 0:00:01\r\u001b[K    61% |███████████████████▋            | 604kB 50.4MB/s eta 0:00:01\r\u001b[K    62% |████████████████████            | 614kB 52.9MB/s eta 0:00:01\r\u001b[K    63% |████████████████████▎           | 624kB 51.9MB/s eta 0:00:01\r\u001b[K    64% |████████████████████▋           | 634kB 54.1MB/s eta 0:00:01\r\u001b[K    65% |█████████████████████           | 645kB 53.3MB/s eta 0:00:01\r\u001b[K    66% |█████████████████████▎          | 655kB 51.5MB/s eta 0:00:01\r\u001b[K    67% |█████████████████████▋          | 665kB 40.2MB/s eta 0:00:01\r\u001b[K    68% |██████████████████████          | 675kB 28.2MB/s eta 0:00:01\r\u001b[K    69% |██████████████████████▎         | 686kB 27.6MB/s eta 0:00:01\r\u001b[K    70% |██████████████████████▋         | 696kB 27.9MB/s eta 0:00:01\r\u001b[K    71% |███████████████████████         | 706kB 27.7MB/s eta 0:00:01\r\u001b[K    72% |███████████████████████▎        | 716kB 28.0MB/s eta 0:00:01\r\u001b[K    73% |███████████████████████▋        | 727kB 28.2MB/s eta 0:00:01\r\u001b[K    74% |████████████████████████        | 737kB 27.6MB/s eta 0:00:01\r\u001b[K    75% |████████████████████████▎       | 747kB 28.0MB/s eta 0:00:01\r\u001b[K    76% |████████████████████████▋       | 757kB 28.0MB/s eta 0:00:01\r\u001b[K    77% |████████████████████████▉       | 768kB 33.2MB/s eta 0:00:01\r\u001b[K    78% |█████████████████████████▏      | 778kB 51.0MB/s eta 0:00:01\r\u001b[K    79% |█████████████████████████▌      | 788kB 52.8MB/s eta 0:00:01\r\u001b[K    80% |█████████████████████████▉      | 798kB 53.1MB/s eta 0:00:01\r\u001b[K    81% |██████████████████████████▏     | 808kB 51.2MB/s eta 0:00:01\r\u001b[K    82% |██████████████████████████▌     | 819kB 50.9MB/s eta 0:00:01\r\u001b[K    83% |██████████████████████████▉     | 829kB 51.3MB/s eta 0:00:01\r\u001b[K    85% |███████████████████████████▏    | 839kB 52.6MB/s eta 0:00:01\r\u001b[K    86% |███████████████████████████▌    | 849kB 52.6MB/s eta 0:00:01\r\u001b[K    87% |███████████████████████████▉    | 860kB 47.9MB/s eta 0:00:01\r\u001b[K    88% |████████████████████████████▏   | 870kB 47.7MB/s eta 0:00:01\r\u001b[K    89% |████████████████████████████▌   | 880kB 48.0MB/s eta 0:00:01\r\u001b[K    90% |████████████████████████████▉   | 890kB 48.6MB/s eta 0:00:01\r\u001b[K    91% |█████████████████████████████▏  | 901kB 49.1MB/s eta 0:00:01\r\u001b[K    92% |█████████████████████████████▌  | 911kB 51.7MB/s eta 0:00:01\r\u001b[K    93% |█████████████████████████████▉  | 921kB 50.7MB/s eta 0:00:01\r\u001b[K    94% |██████████████████████████████▏ | 931kB 50.8MB/s eta 0:00:01\r\u001b[K    95% |██████████████████████████████▌ | 942kB 51.2MB/s eta 0:00:01\r\u001b[K    96% |██████████████████████████████▉ | 952kB 51.2MB/s eta 0:00:01\r\u001b[K    97% |███████████████████████████████▏| 962kB 58.3MB/s eta 0:00:01\r\u001b[K    98% |███████████████████████████████▌| 972kB 57.1MB/s eta 0:00:01\r\u001b[K    99% |███████████████████████████████▉| 983kB 55.9MB/s eta 0:00:01\r\u001b[K    100% |████████████████████████████████| 993kB 21.1MB/s \n",
            "\u001b[?25h  Building wheel for PyDrive (setup.py) ... \u001b[?25ldone\n",
            "\u001b[?25h"
          ],
          "name": "stdout"
        }
      ]
    },
    {
      "metadata": {
        "id": "_XXz7P5x1MC5",
        "colab_type": "code",
        "colab": {}
      },
      "cell_type": "code",
      "source": [
        "# 본인의 구글 드라이브와 연동하는 과정 2\n",
        "# 실행 후 밑에 나오는 링크에 들어가서 나오는 코드를 밑에 입력\n",
        "# Please enter the verification code: Access token retrieved correctly. 라는 메시지가 나오면 OK\n",
        "\n",
        "# (런타임을 재시작한 경우) 아무 메시지 없이 계속 기다리는 상황이 있는데, 밑에 생기는 네모 빈 칸에 엔터 입력\n",
        "# fuse: mountpoint is not empty\n",
        "# fuse: if you are sure this is safe, use the 'nonempty' mount option\n",
        "# 라는 메시지가 나오면 그냥 무시\n",
        "\n",
        "# 또한 필요한 라이브러리를 설치\n",
        "# 좀 시간이 걸림\n",
        "\n",
        "!apt-get update > /dev/null\n",
        "!apt-get install -y -qq software-properties-common  module-init-tools g++ > /dev/null\n",
        "!add-apt-repository -y ppa:alessandro-strada/ppa 2>&1 > /dev/null\n",
        "!apt-get update -qq 2>&1 > /dev/null\n",
        "!apt-get -y install -qq google-drive-ocamlfuse fuse\n",
        "\n",
        "from google.colab import auth\n",
        "auth.authenticate_user()\n",
        "from oauth2client.client import GoogleCredentials\n",
        "creds = GoogleCredentials.get_application_default()\n",
        "import getpass\n",
        "\n",
        "!google-drive-ocamlfuse -headless -id={creds.client_id} -secret={creds.client_secret} < /dev/null 2>&1 | grep URL\n",
        "vcode = getpass.getpass()\n",
        "!echo {vcode} | google-drive-ocamlfuse -headless -id={creds.client_id} -secret={creds.client_secret}\n",
        "\n",
        "!mkdir -p drive\n",
        "!google-drive-ocamlfuse drive"
      ],
      "execution_count": 0,
      "outputs": []
    },
    {
      "metadata": {
        "id": "9SqLhaRH1uLG",
        "colab_type": "code",
        "outputId": "cd4bd306-037f-4fa7-c22c-5615ef01b82a",
        "colab": {
          "base_uri": "https://localhost:8080/",
          "height": 136
        }
      },
      "cell_type": "code",
      "source": [
        "import os\n",
        "import sys\n",
        "import timeit\n",
        "import torch\n",
        "import torch.nn as nn\n",
        "from torch import optim\n",
        "import torch.nn.functional as F\n",
        "import torchvision\n",
        "import torchvision.transforms as transforms\n",
        "import scipy as sp\n",
        "import numpy as np\n",
        "import matplotlib as mpl\n",
        "import matplotlib.pyplot as plt\n",
        "\n",
        "%matplotlib inline\n",
        "\n",
        "#plt.rc('text', usetex = True)\n",
        "mpl.rcParams[\"font.family\"] = \"serif\"\n",
        "mpl.rcParams[\"font.size\"] = \"15\"\n",
        "\n",
        "print('python version : ', sys.version)\n",
        "print('numpy version : ', np.version.version)\n",
        "print('scipy version : ', sp.__version__)\n",
        "print('matplotlib version :', mpl.__version__)\n",
        "print('pytorch version : ', torch.__version__)\n",
        "print('Cuda : ', torch.cuda.is_available())"
      ],
      "execution_count": 0,
      "outputs": [
        {
          "output_type": "stream",
          "text": [
            "python version :  3.6.7 (default, Oct 22 2018, 11:32:17) \n",
            "[GCC 8.2.0]\n",
            "numpy version :  1.14.6\n",
            "scipy version :  1.1.0\n",
            "matplotlib version : 3.0.2\n",
            "pytorch version :  1.0.0\n",
            "Cuda :  True\n"
          ],
          "name": "stdout"
        }
      ]
    },
    {
      "metadata": {
        "id": "S4Mpu1Of2b3F",
        "colab_type": "code",
        "colab": {}
      },
      "cell_type": "code",
      "source": [
        "!ls ./drive/2019_pytorch_study"
      ],
      "execution_count": 0,
      "outputs": []
    },
    {
      "metadata": {
        "id": "17grStuQ9gm4",
        "colab_type": "code",
        "colab": {}
      },
      "cell_type": "code",
      "source": [
        "batchSize = 128\n",
        "learningRate = 0.0002\n",
        "epochNum = 30\n",
        "inputDim = 28 * 28\n",
        "device = torch.device('cuda' if torch.cuda.is_available() else 'cpu')"
      ],
      "execution_count": 0,
      "outputs": []
    },
    {
      "metadata": {
        "id": "8-_vQr4D9hlu",
        "colab_type": "code",
        "outputId": "6d9d0c22-39ca-4eee-c548-b16ba6fd6c58",
        "colab": {
          "base_uri": "https://localhost:8080/",
          "height": 221
        }
      },
      "cell_type": "code",
      "source": [
        "dataTrainDIGIT = torchvision.datasets.MNIST(root = './data/mnist',\n",
        "                                         train = True,\n",
        "                                         download = True,\n",
        "                                         transform = transforms.Compose([\n",
        "                                                        transforms.CenterCrop(28),\n",
        "                                                        transforms.ToTensor()]))\n",
        "\n",
        "dataTestDIGIT = torchvision.datasets.MNIST(root = './data/mnist',\n",
        "                                         train = False,\n",
        "                                         download = True,\n",
        "                                         transform = transforms.Compose([\n",
        "                                                        transforms.CenterCrop(28),\n",
        "                                                        transforms.ToTensor()]))\n",
        "\n",
        "trainLoaderDIGIT = torch.utils.data.DataLoader(dataset = dataTrainDIGIT, \n",
        "                                         batch_size = batchSize, \n",
        "                                         shuffle = True)\n",
        "\n",
        "testLoaderDIGIT = torch.utils.data.DataLoader(dataset = dataTestDIGIT, \n",
        "                                         batch_size = batchSize, \n",
        "                                         shuffle = False)\n",
        "\n",
        "dataTrainFASHION = torchvision.datasets.FashionMNIST(root = './data/fashion',\n",
        "                                                    train = True,\n",
        "                                                    download = True,\n",
        "                                                    transform = transforms.Compose([\n",
        "                                                                            transforms.CenterCrop(28),\n",
        "                                                                            transforms.ToTensor()]))\n",
        "\n",
        "dataTestFASHION = torchvision.datasets.FashionMNIST(root = './data/fashion',\n",
        "                                         train = False,\n",
        "                                         download = True,\n",
        "                                         transform = transforms.Compose([\n",
        "                                                        transforms.CenterCrop(28),\n",
        "                                                        transforms.ToTensor()]))\n",
        "\n",
        "trainLoaderFASHION = torch.utils.data.DataLoader(dataset = dataTrainFASHION, \n",
        "                                         batch_size = batchSize, \n",
        "                                         shuffle = True)\n",
        "\n",
        "testLoaderFASHION = torch.utils.data.DataLoader(dataset = dataTestFASHION, \n",
        "                                         batch_size = batchSize, \n",
        "                                         shuffle = False)\n",
        "\n",
        "classes = ('0', '1', '2', '3', '4', '5', '6', '7', '8', '9')\n",
        "classes_fashion = ('T-shirt/top', 'Trouser', 'Pullover', 'Dress', 'Coat', 'Sandal', 'Shirt', 'Sneaker', 'Bag', 'Ankle_boot')"
      ],
      "execution_count": 0,
      "outputs": [
        {
          "output_type": "stream",
          "text": [
            "Downloading http://yann.lecun.com/exdb/mnist/train-images-idx3-ubyte.gz\n",
            "Downloading http://yann.lecun.com/exdb/mnist/train-labels-idx1-ubyte.gz\n",
            "Downloading http://yann.lecun.com/exdb/mnist/t10k-images-idx3-ubyte.gz\n",
            "Downloading http://yann.lecun.com/exdb/mnist/t10k-labels-idx1-ubyte.gz\n",
            "Processing...\n",
            "Done!\n",
            "Downloading http://fashion-mnist.s3-website.eu-central-1.amazonaws.com/train-images-idx3-ubyte.gz\n",
            "Downloading http://fashion-mnist.s3-website.eu-central-1.amazonaws.com/train-labels-idx1-ubyte.gz\n",
            "Downloading http://fashion-mnist.s3-website.eu-central-1.amazonaws.com/t10k-images-idx3-ubyte.gz\n",
            "Downloading http://fashion-mnist.s3-website.eu-central-1.amazonaws.com/t10k-labels-idx1-ubyte.gz\n",
            "Processing...\n",
            "Done!\n"
          ],
          "name": "stdout"
        }
      ]
    },
    {
      "metadata": {
        "id": "-TKJglSN9ktn",
        "colab_type": "code",
        "colab": {}
      },
      "cell_type": "code",
      "source": [
        "def show_images(image, n_row):\n",
        "  \n",
        "    for _ in range(n_row):  \n",
        "\n",
        "        index=np.random.choice(100, 6) # 0 ~ 99의 정수 중  6개 랜덤 샘플링\n",
        "        images =image.numpy()[index] # 랜덤 샘플링 된 index에 해당하는 이미지 변수 저장\n",
        "\n",
        "        plt.figure(figsize=(15,90)) # 세로 사이즈 15, 가로 사이즈 15*6\n",
        "\n",
        "        for a in range(161, 167):    \n",
        "\n",
        "            plt.subplot(a)\n",
        "            plt.imshow(images[a-161])\n",
        "            plt.xticks([])\n",
        "            plt.yticks([])    \n",
        "\n",
        "        plt.show()"
      ],
      "execution_count": 0,
      "outputs": []
    },
    {
      "metadata": {
        "id": "iQN8rF7I9mhe",
        "colab_type": "code",
        "outputId": "03afb67d-e104-4223-e6d2-e324d8b133ba",
        "colab": {
          "base_uri": "https://localhost:8080/",
          "height": 1081
        }
      },
      "cell_type": "code",
      "source": [
        "for i, (image,_) in enumerate(trainLoaderDIGIT): \n",
        "  \n",
        "    show_images(image.squeeze(), 4)\n",
        "    break\n",
        "\n",
        "for i, (image,_) in enumerate(trainLoaderFASHION): \n",
        "  \n",
        "    show_images(image.squeeze(), 4)\n",
        "    break"
      ],
      "execution_count": 0,
      "outputs": [
        {
          "output_type": "display_data",
          "data": {
            "image/png": "[encoded data removed]",
            "text/plain": [
              "<Figure size 1080x6480 with 6 Axes>"
            ]
          },
          "metadata": {
            "tags": []
          }
        },
        {
          "output_type": "display_data",
          "data": {
            "image/png": "[encoded data removed]",
            "text/plain": [
              "<Figure size 1080x6480 with 6 Axes>"
            ]
          },
          "metadata": {
            "tags": []
          }
        },
        {
          "output_type": "display_data",
          "data": {
            "image/png": "[encoded data removed]",
            "text/plain": [
              "<Figure size 1080x6480 with 6 Axes>"
            ]
          },
          "metadata": {
            "tags": []
          }
        },
        {
          "output_type": "display_data",
          "data": {
            "image/png": "[encoded data removed]",
            "text/plain": [
              "<Figure size 1080x6480 with 6 Axes>"
            ]
          },
          "metadata": {
            "tags": []
          }
        },
        {
          "output_type": "display_data",
          "data": {
            "image/png": "[encoded data removed]",
            "text/plain": [
              "<Figure size 1080x6480 with 6 Axes>"
            ]
          },
          "metadata": {
            "tags": []
          }
        },
        {
          "output_type": "display_data",
          "data": {
            "image/png": "[encoded data removed]",
            "text/plain": [
              "<Figure size 1080x6480 with 6 Axes>"
            ]
          },
          "metadata": {
            "tags": []
          }
        },
        {
          "output_type": "display_data",
          "data": {
            "image/png": "[encoded data removed]",
            "text/plain": [
              "<Figure size 1080x6480 with 6 Axes>"
            ]
          },
          "metadata": {
            "tags": []
          }
        },
        {
          "output_type": "display_data",
          "data": {
            "image/png": "[encoded data removed]",
            "text/plain": [
              "<Figure size 1080x6480 with 6 Axes>"
            ]
          },
          "metadata": {
            "tags": []
          }
        }
      ]
    },
    {
      "metadata": {
        "id": "BImgcIYXArSO",
        "colab_type": "code",
        "colab": {}
      },
      "cell_type": "code",
      "source": [
        "class G(nn.Module):\n",
        "  \n",
        "    def __init__(self, ):\n",
        "      \n",
        "        super(G, self).__init__()\n",
        "\n",
        "        self.conv1 = nn.Conv2d(1, 4, 3, stride = 1, padding = 1)\n",
        "        self.conv2 = nn.Conv2d(4, 16, 3, stride = 1, padding = 1)\n",
        "        self.conv3 = nn.Conv2d(16, 32, 3, stride = 1, padding = 1)\n",
        "        self.conv4 = nn.Conv2d(32, 64, 3, stride = 1, padding = 1)\n",
        "        self.conv5 = nn.Conv2d(64, 256, 3, stride = 1, padding = 1)\n",
        "        self.conv6 = nn.Conv2d(256, 512, 3, stride = 1, padding = 1)\n",
        "        self.conv7 = nn.Conv2d(512, 256, 3, stride = 1, padding = 1)\n",
        "        self.conv8 = nn.Conv2d(128, 32, 3, stride = 1, padding = 1)\n",
        "        self.conv9 = nn.Conv2d(32, 4, 3, stride = 1, padding = 1)\n",
        "        self.conv10 = nn.Conv2d(4, 1, 1, stride = 1, padding = 0)\n",
        "\n",
        "        self.deconv1 = nn.ConvTranspose2d(256, 64, 3, stride = 2, padding = 1, output_padding = 1)\n",
        "        self.deconv2 = nn.ConvTranspose2d(32, 16, 3, stride = 2, padding = 1, output_padding = 1)\n",
        "    \n",
        "    def forward(self, x):\n",
        "\n",
        "        # (?, 4, 28, 28)\n",
        "        out1 = F.relu(self.conv1(x.to(device)), inplace = True)\n",
        "        # (?, 16, 28, 28)\n",
        "        out2 = F.relu(self.conv2(out1), inplace = True)\n",
        "        \n",
        "        # (?, 32, 14, 14)\n",
        "        out3 = F.relu(self.conv3(F.max_pool2d(out2, 2)), inplace = True)\n",
        "        # (?, 64, 14, 14)\n",
        "        out4 = F.relu(self.conv4(out3), inplace = True)\n",
        "        \n",
        "        # (?, 256, 7, 7)\n",
        "        out5 = F.relu(self.conv5(F.max_pool2d(out4, 2)), inplace = True)\n",
        "        # (?, 512, 7, 7)\n",
        "        out6 = F.relu(self.conv6(out5))\n",
        "        # (?, 256, 7, 7)\n",
        "        out7 = F.relu(self.conv7(out6))\n",
        "        \n",
        "        # out4.shape     (?, 64, 14, 14) out8.shape    (?, 64, 14, 14)    -> torch.cat((out4, out8), 1)      (?, 128, 14, 14)\n",
        "        \n",
        "        # (?, 64, 14, 14)\n",
        "        out8 = F.relu(self.deconv1(out7), inplace = True)\n",
        "        # (?, 32, 14, 14)\n",
        "        out9 = F.relu(self.conv8(torch.cat((out4, out8), 1)), inplace = True)\n",
        "        \n",
        "        # (?, 16, 28, 28)\n",
        "        out10 = F.relu(self.deconv2(out9), inplace = True)\n",
        "        # (?, 4, 28, 28)\n",
        "        out11 = F.relu(self.conv9(torch.cat((out2, out10), 1)), inplace = True)\n",
        "        \n",
        "        # (?, 1, 28, 28)\n",
        "        out = F.relu(self.conv10(out11), inplace = True)\n",
        "        \n",
        "        return out\n",
        "\n",
        "class D(nn.Module):\n",
        "  \n",
        "    def __init__(self):\n",
        "      \n",
        "        super(D, self).__init__()\n",
        "        \n",
        "        self.conv1 = nn.Conv2d(1, 32, 3, stride = 2, padding = 1)\n",
        "        self.conv2 = nn.Conv2d(32, 128, 3, stride = 2, padding = 1)\n",
        "        self.fc = nn.Linear(7 * 7 * 128, 1)\n",
        "      \n",
        "    def forward(self, x):\n",
        "      \n",
        "        out = F.relu(self.conv1(x.to(device)), inplace = True)\n",
        "        out = F.relu(self.conv2(out), inplace = True)\n",
        "        out = out.view(batchSize, -1)\n",
        "        out = F.sigmoid(self.fc(out))\n",
        "        \n",
        "        return out\n",
        "\n",
        "G_df = G().train()\n",
        "G_fd = G().train()\n",
        "D_d = D().train()\n",
        "D_f = D().train()\n",
        "  \n",
        "G_df = G().to(device)\n",
        "G_fd = G().to(device)\n",
        "D_d = D().to(device)\n",
        "D_f = D().to(device)"
      ],
      "execution_count": 0,
      "outputs": []
    },
    {
      "metadata": {
        "id": "K4kLMUkgAs-h",
        "colab_type": "code",
        "outputId": "fc5a3aac-34d9-4ea4-98d4-f71a0f7c156d",
        "colab": {
          "base_uri": "https://localhost:8080/",
          "height": 34
        }
      },
      "cell_type": "code",
      "source": [
        "digit_iter = iter(trainLoaderDIGIT)\n",
        "fashion_iter = iter(trainLoaderFASHION) # dataset 의 갯수가 다를때, iter 사용(둘중 하나가 끝날때 까지 반복)\n",
        "\n",
        "print('iterNum : ', min(len(digit_iter), len(fashion_iter)))"
      ],
      "execution_count": 0,
      "outputs": [
        {
          "output_type": "stream",
          "text": [
            "iterNum :  469\n"
          ],
          "name": "stdout"
        }
      ]
    },
    {
      "metadata": {
        "id": "ttxybd1_At1B",
        "colab_type": "code",
        "outputId": "1fddc56f-3071-4407-9217-56a7dd1074f0",
        "colab": {
          "base_uri": "https://localhost:8080/",
          "height": 68
        }
      },
      "cell_type": "code",
      "source": [
        "G_optimizer = torch.optim.Adam(list(G_df.parameters()) + list(G_fd.parameters()), lr = learningRate)\n",
        "D_optimizer = torch.optim.Adam(list(D_d.parameters()) + list(D_f.parameters()), lr = learningRate)\n",
        "\n",
        "for epoch in range(epochNum):\n",
        " \n",
        "    digit_iter = iter(trainLoaderDIGIT)\n",
        "    fashion_iter = iter(trainLoaderFASHION) # dataset 의 갯수가 다를때, iter 사용(둘중 하나가 끝날때 까지 반복)\n",
        "\n",
        "    for idx in range(min(len(digit_iter), len(fashion_iter))):\n",
        "\n",
        "        try:\n",
        "        \n",
        "            mnist, _ = digit_iter.next()\n",
        "            fashion, _ = fashion_iter.next()\n",
        "\n",
        "            mnist = mnist.to(device)\n",
        "            fashion = fashion.to(device)        \n",
        "            fakeFashion = G_df(mnist)\n",
        "            fakeDIGIT = G_fd(fashion)\n",
        "\n",
        "            # loss from real data\n",
        "            D_optimizer.zero_grad()\n",
        "            D_loss = torch.mean((D_d(mnist) - 1) ** 2) + torch.mean((D_f(fashion) - 1) ** 2)\n",
        "            D_loss.backward(retain_graph = True)\n",
        "            D_optimizer.step()\n",
        "            # loss from fake data\n",
        "            D_optimizer.zero_grad()\n",
        "            D_loss = torch.mean(D_d(fakeDIGIT) ** 2) + torch.mean(D_f(fakeFashion) ** 2)\n",
        "            D_loss.backward(retain_graph = True)\n",
        "            D_optimizer.step()\n",
        "\n",
        "            reconstDIGIT = G_fd(fakeFashion)\n",
        "            reconstFashion = G_fd(fakeDIGIT)\n",
        "\n",
        "            G_optimizer.zero_grad()\n",
        "            G_loss = torch.mean((mnist - reconstDIGIT) ** 2) +  torch.mean((fashion - reconstFashion) ** 2) # 실제 cycleGAN 의 loss 와는 다름\n",
        "            G_loss.backward()\n",
        "            G_optimizer.step()\n",
        "\n",
        "            if (idx + 1) % 200 == 0:\n",
        "\n",
        "                print(\"Epoch [{}/{}], step [{}/{}], D_loss : {:.4f}, G_loss {:.4f}\".format(epoch + 1, epochNum, idx + 1, min(len(digit_iter), len(fashion_iter)), D_loss.item(), G_loss.item()))\n",
        "                \n",
        "        except:\n",
        "            \n",
        "            continue\n",
        "\n",
        "    print(\"Epoch [{}/{}], step [{}/{}], D_loss : {:.4f}, G_loss {:.4f}\".format(epoch + 1, epochNum, idx + 1, min(len(digit_iter), len(fashion_iter)), D_loss.item(), G_loss.item()))"
      ],
      "execution_count": 0,
      "outputs": [
        {
          "output_type": "stream",
          "text": [
            "/usr/local/lib/python3.6/dist-packages/torch/nn/functional.py:1332: UserWarning: nn.functional.sigmoid is deprecated. Use torch.sigmoid instead.\n",
            "  warnings.warn(\"nn.functional.sigmoid is deprecated. Use torch.sigmoid instead.\")\n"
          ],
          "name": "stderr"
        },
        {
          "output_type": "stream",
          "text": [
            "Epoch [1/30], step [200/469], D_loss : 0.0000, G_loss 0.3109\n"
          ],
          "name": "stdout"
        }
      ]
    }
  ]
}