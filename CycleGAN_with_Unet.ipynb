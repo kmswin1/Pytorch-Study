{
  "nbformat": 4,
  "nbformat_minor": 0,
  "metadata": {
    "colab": {
      "name": "CycleGAN with Unet.ipynb",
      "version": "0.3.2",
      "provenance": [],
      "collapsed_sections": [],
      "include_colab_link": true
    },
    "kernelspec": {
      "name": "python3",
      "display_name": "Python 3"
    },
    "accelerator": "GPU"
  },
  "cells": [
    {
      "cell_type": "markdown",
      "metadata": {
        "id": "view-in-github",
        "colab_type": "text"
      },
      "source": [
        "<a href=\"https://colab.research.google.com/github/kmswin1/Pytorch-Study/blob/master/CycleGAN_with_Unet.ipynb\" target=\"_parent\"><img src=\"https://colab.research.google.com/assets/colab-badge.svg\" alt=\"Open In Colab\"/></a>"
      ]
    },
    {
      "metadata": {
        "id": "oh1OSLRq2ZAi",
        "colab_type": "text"
      },
      "cell_type": "markdown",
      "source": [
        "Colab 에서 Pytorch 세팅"
      ]
    },
    {
      "metadata": {
        "id": "cdCEPOPt2NjO",
        "colab_type": "code",
        "outputId": "f824214e-7ef8-4f39-cfa4-af6688d233e0",
        "colab": {
          "base_uri": "https://localhost:8080/",
          "height": 55
        }
      },
      "cell_type": "code",
      "source": [
        "import os\n",
        "from wheel.pep425tags import get_abbr_impl, get_impl_ver, get_abi_tag\n",
        "platform = '{}{}-{}'.format(get_abbr_impl(), get_impl_ver(), get_abi_tag())\n",
        "accelerator = 'cu80' if os.path.exists('/opt/bin/nvidia-smi') else 'cpu'\n",
        "!pip install -q http://download.pytorch.org/whl/{accelerator}/torch-0.4.0-{platform}-linux_x86_64.whl torchvision"
      ],
      "execution_count": 0,
      "outputs": [
        {
          "output_type": "stream",
          "text": [
            "tcmalloc: large alloc 1073750016 bytes == 0x5c74e000 @  0x7f6b728491c4 0x46d6a4 0x5fcbcc 0x4c494d 0x54f3c4 0x553aaf 0x54e4c8 0x54f4f6 0x553aaf 0x54efc1 0x54f24d 0x553aaf 0x54efc1 0x54f24d 0x553aaf 0x54efc1 0x54f24d 0x551ee0 0x54e4c8 0x54f4f6 0x553aaf 0x54efc1 0x54f24d 0x551ee0 0x54efc1 0x54f24d 0x551ee0 0x54e4c8 0x54f4f6 0x553aaf 0x54e4c8\r\n"
          ],
          "name": "stdout"
        }
      ]
    },
    {
      "metadata": {
        "id": "14u9bY2oThjp",
        "colab_type": "text"
      },
      "cell_type": "markdown",
      "source": [
        "구글 드라이브 연동\n",
        "\n",
        "!apt-get install -y -qq software-properties-common python-software-properties module-init-tools\n",
        "!add-apt-repository -y ppa:alessandro-strada/ppa 2>&1 > /dev/null\n",
        "!apt-get update -qq 2>&1 > /dev/null\n",
        "!apt-get -y install -qq google-drive-ocamlfuse fuse\n",
        "from google.colab import auth\n",
        "auth.authenticate_user()\n",
        "from oauth2client.client import GoogleCredentials\n",
        "creds = GoogleCredentials.get_application_default()\n",
        "import getpass\n",
        "!google-drive-ocamlfuse -headless -id={creds.client_id} -secret={creds.client_secret} < /dev/null 2>&1 | grep URL\n",
        "vcode = getpass.getpass()\n",
        "!echo {vcode} | google-drive-ocamlfuse -headless -id={creds.client_id} -secret={creds.client_secret}\n",
        "\n",
        "!mkdir -p drive\n",
        "!google-drive-ocamlfuse drive\n",
        "!mkdir data\n",
        "!cp -r ./drive/\"colab data\" ./data\n",
        "!ls data"
      ]
    },
    {
      "metadata": {
        "id": "eodKTwGTXIMc",
        "colab_type": "text"
      },
      "cell_type": "markdown",
      "source": [
        "라이브러리 로드"
      ]
    },
    {
      "metadata": {
        "id": "1tzHMbHKXH81",
        "colab_type": "code",
        "outputId": "dd8d323f-7066-438c-a276-f8d04a23b38d",
        "colab": {
          "base_uri": "https://localhost:8080/",
          "height": 143
        }
      },
      "cell_type": "code",
      "source": [
        "import os\n",
        "import sys\n",
        "import timeit\n",
        "import torch\n",
        "import torch.nn as nn\n",
        "import torch.nn.functional as F\n",
        "import torchvision\n",
        "import torchvision.transforms as transforms\n",
        "import scipy as sp\n",
        "import numpy as np\n",
        "import matplotlib as mpl\n",
        "import matplotlib.pyplot as plt\n",
        "\n",
        "%matplotlib inline\n",
        "\n",
        "#plt.rc('text', usetex = True)\n",
        "mpl.rcParams[\"font.family\"] = \"serif\"\n",
        "mpl.rcParams[\"font.size\"] = \"15\"\n",
        "\n",
        "print('python version : ', sys.version)\n",
        "print('numpy version : ', np.version.version)\n",
        "print('scipy version : ', sp.__version__)\n",
        "print('matplotlib version :', mpl.__version__)\n",
        "print('pytorch version : ', torch.__version__)\n",
        "print('Cuda : ', torch.cuda.is_available())"
      ],
      "execution_count": 0,
      "outputs": [
        {
          "output_type": "stream",
          "text": [
            "python version :  3.6.3 (default, Oct  3 2017, 21:45:48) \n",
            "[GCC 7.2.0]\n",
            "numpy version :  1.14.5\n",
            "scipy version :  0.19.1\n",
            "matplotlib version : 2.1.2\n",
            "pytorch version :  0.4.0\n",
            "Cuda :  True\n"
          ],
          "name": "stdout"
        }
      ]
    },
    {
      "metadata": {
        "id": "MV90QUXecItP",
        "colab_type": "text"
      },
      "cell_type": "markdown",
      "source": [
        "Hyperparameter 지정"
      ]
    },
    {
      "metadata": {
        "id": "kUglldHScGqN",
        "colab_type": "code",
        "colab": {}
      },
      "cell_type": "code",
      "source": [
        "batchSize = 128\n",
        "learningRate = 0.0002\n",
        "epochNum = 30\n",
        "inputDim = 28 * 28\n",
        "device = torch.device('cuda' if torch.cuda.is_available() else 'cpu')"
      ],
      "execution_count": 0,
      "outputs": []
    },
    {
      "metadata": {
        "id": "6-gheehHaqCm",
        "colab_type": "text"
      },
      "cell_type": "markdown",
      "source": [
        "Cifar-10 / Cifar-100 데이터"
      ]
    },
    {
      "metadata": {
        "id": "f7Ot7YnoZCPw",
        "colab_type": "code",
        "outputId": "fe93a742-1b69-4a85-f42e-04f510d55e3c",
        "colab": {
          "base_uri": "https://localhost:8080/",
          "height": 233
        }
      },
      "cell_type": "code",
      "source": [
        "dataTrainDIGIT = torchvision.datasets.MNIST(root = './data/mnist',\n",
        "                                         train = True,\n",
        "                                         download = True,\n",
        "                                         transform = transforms.Compose([\n",
        "                                                        transforms.CenterCrop(28),\n",
        "                                                        transforms.ToTensor()]))\n",
        "\n",
        "dataTestDIGIT = torchvision.datasets.MNIST(root = './data/mnist',\n",
        "                                         train = False,\n",
        "                                         download = True,\n",
        "                                         transform = transforms.Compose([\n",
        "                                                        transforms.CenterCrop(28),\n",
        "                                                        transforms.ToTensor()]))\n",
        "\n",
        "trainLoaderDIGIT = torch.utils.data.DataLoader(dataset = dataTrainDIGIT, \n",
        "                                         batch_size = batchSize, \n",
        "                                         shuffle = True)\n",
        "\n",
        "testLoaderDIGIT = torch.utils.data.DataLoader(dataset = dataTestDIGIT, \n",
        "                                         batch_size = batchSize, \n",
        "                                         shuffle = False)\n",
        "\n",
        "dataTrainFASHION = torchvision.datasets.FashionMNIST(root = './data/fashion',\n",
        "                                                    train = True,\n",
        "                                                    download = True,\n",
        "                                                    transform = transforms.Compose([\n",
        "                                                                            transforms.CenterCrop(28),\n",
        "                                                                            transforms.ToTensor()]))\n",
        "\n",
        "dataTestFASHION = torchvision.datasets.FashionMNIST(root = './data/fashion',\n",
        "                                         train = False,\n",
        "                                         download = True,\n",
        "                                         transform = transforms.Compose([\n",
        "                                                        transforms.CenterCrop(28),\n",
        "                                                        transforms.ToTensor()]))\n",
        "\n",
        "trainLoaderFASHION = torch.utils.data.DataLoader(dataset = dataTrainFASHION, \n",
        "                                         batch_size = batchSize, \n",
        "                                         shuffle = True)\n",
        "\n",
        "testLoaderFASHION = torch.utils.data.DataLoader(dataset = dataTestFASHION, \n",
        "                                         batch_size = batchSize, \n",
        "                                         shuffle = False)\n",
        "\n",
        "classes = ('0', '1', '2', '3', '4', '5', '6', '7', '8', '9')\n",
        "classes_fashion = ('T-shirt/top', 'Trouser', 'Pullover', 'Dress', 'Coat', 'Sandal', 'Shirt', 'Sneaker', 'Bag', 'Ankle_boot')"
      ],
      "execution_count": 0,
      "outputs": [
        {
          "output_type": "stream",
          "text": [
            "Downloading http://yann.lecun.com/exdb/mnist/train-images-idx3-ubyte.gz\n",
            "Downloading http://yann.lecun.com/exdb/mnist/train-labels-idx1-ubyte.gz\n",
            "Downloading http://yann.lecun.com/exdb/mnist/t10k-images-idx3-ubyte.gz\n",
            "Downloading http://yann.lecun.com/exdb/mnist/t10k-labels-idx1-ubyte.gz\n",
            "Processing...\n",
            "Done!\n",
            "Downloading http://fashion-mnist.s3-website.eu-central-1.amazonaws.com/train-images-idx3-ubyte.gz\n",
            "Downloading http://fashion-mnist.s3-website.eu-central-1.amazonaws.com/train-labels-idx1-ubyte.gz\n",
            "Downloading http://fashion-mnist.s3-website.eu-central-1.amazonaws.com/t10k-images-idx3-ubyte.gz\n",
            "Downloading http://fashion-mnist.s3-website.eu-central-1.amazonaws.com/t10k-labels-idx1-ubyte.gz\n",
            "Processing...\n",
            "Done!\n"
          ],
          "name": "stdout"
        }
      ]
    },
    {
      "metadata": {
        "id": "M5C5VLePeqJa",
        "colab_type": "text"
      },
      "cell_type": "markdown",
      "source": [
        "데이터 미리보기"
      ]
    },
    {
      "metadata": {
        "id": "AL3jXbYceptw",
        "colab_type": "code",
        "outputId": "455219d5-c1d8-447c-c207-0a1ac5a4d3ae",
        "colab": {
          "base_uri": "https://localhost:8080/",
          "height": 549
        }
      },
      "cell_type": "code",
      "source": [
        "def show_images(image, n_row):\n",
        "  \n",
        "  for _ in range(n_row):  \n",
        "  \n",
        "    index=np.random.choice(100, 6) # 0 ~ 99의 정수 중  6개 랜덤 샘플링\n",
        "    images =image.numpy()[index] # 랜덤 샘플링 된 index에 해당하는 이미지 변수 저장\n",
        "    \n",
        "    plt.figure(figsize=(15,90)) # 세로 사이즈 15, 가로 사이즈 15*6\n",
        "    \n",
        "    for a in range(161, 167):    \n",
        "    \n",
        "      plt.subplot(a)\n",
        "      plt.imshow(images[a-161])\n",
        "      plt.xticks([])\n",
        "      plt.yticks([])    \n",
        "    \n",
        "    plt.show()  \n",
        "\n",
        "for i, (image,_) in enumerate(trainLoaderDIGIT): \n",
        "  \n",
        "  show_images(image.squeeze(), 4)\n",
        "  break"
      ],
      "execution_count": 0,
      "outputs": [
        {
          "output_type": "display_data",
          "data": {
            "image/png": "[encoded data removed]",
            "text/plain": [
              "<matplotlib.figure.Figure at 0x7ff13b9620b8>"
            ]
          },
          "metadata": {
            "tags": []
          }
        },
        {
          "output_type": "display_data",
          "data": {
            "image/png": "[encoded data removed]",
            "text/plain": [
              "<matplotlib.figure.Figure at 0x7ff0eb1d50b8>"
            ]
          },
          "metadata": {
            "tags": []
          }
        },
        {
          "output_type": "display_data",
          "data": {
            "image/png": "[encoded data removed]",
            "text/plain": [
              "<matplotlib.figure.Figure at 0x7ff0e6da1160>"
            ]
          },
          "metadata": {
            "tags": []
          }
        },
        {
          "output_type": "display_data",
          "data": {
            "image/png": "[encoded data removed]",
            "text/plain": [
              "<matplotlib.figure.Figure at 0x7ff0e6c90128>"
            ]
          },
          "metadata": {
            "tags": []
          }
        }
      ]
    },
    {
      "metadata": {
        "id": "F7FhB4Ru3-_3",
        "colab_type": "code",
        "outputId": "fe2243b9-e064-4ac6-9d10-5b7d3451623e",
        "colab": {
          "base_uri": "https://localhost:8080/",
          "height": 549
        }
      },
      "cell_type": "code",
      "source": [
        "for i, (image,_) in enumerate(trainLoaderFASHION): \n",
        "  \n",
        "  show_images(image.squeeze(), 4)\n",
        "  break"
      ],
      "execution_count": 0,
      "outputs": [
        {
          "output_type": "display_data",
          "data": {
            "image/png": "[encoded data removed]",
            "text/plain": [
              "<matplotlib.figure.Figure at 0x7ff0eb9a9cc0>"
            ]
          },
          "metadata": {
            "tags": []
          }
        },
        {
          "output_type": "display_data",
          "data": {
            "image/png": "[encoded data removed]",
            "text/plain": [
              "<matplotlib.figure.Figure at 0x7ff0e6974898>"
            ]
          },
          "metadata": {
            "tags": []
          }
        },
        {
          "output_type": "display_data",
          "data": {
            "image/png": "[encoded data removed]",
            "text/plain": [
              "<matplotlib.figure.Figure at 0x7ff0e68543c8>"
            ]
          },
          "metadata": {
            "tags": []
          }
        },
        {
          "output_type": "display_data",
          "data": {
            "image/png": "[encoded data removed]",
            "text/plain": [
              "<matplotlib.figure.Figure at 0x7ff0eb1eb3c8>"
            ]
          },
          "metadata": {
            "tags": []
          }
        }
      ]
    },
    {
      "metadata": {
        "id": "F0vHkc3UftSK",
        "colab_type": "text"
      },
      "cell_type": "markdown",
      "source": [
        "모델 구현"
      ]
    },
    {
      "metadata": {
        "id": "VMECemGiHGvy",
        "colab_type": "code",
        "colab": {}
      },
      "cell_type": "code",
      "source": [
        "class G(nn.Module):\n",
        "  \n",
        "  def __init__(self, ):\n",
        "    \n",
        "    super(G, self).__init__()\n",
        "\n",
        "    self.conv1 = nn.Conv2d(1, 4, 3, stride = 1, padding = 1)\n",
        "    self.conv2 = nn.Conv2d(4, 16, 3, stride = 1, padding = 1)\n",
        "    self.conv3 = nn.Conv2d(16, 32, 3, stride = 1, padding = 1)\n",
        "    self.conv4 = nn.Conv2d(32, 64, 3, stride = 1, padding = 1)\n",
        "    self.conv5 = nn.Conv2d(64, 256, 3, stride = 1, padding = 1)\n",
        "    self.conv6 = nn.Conv2d(256, 512, 3, stride = 1, padding = 1)\n",
        "    self.conv7 = nn.Conv2d(512, 256, 3, stride = 1, padding = 1)\n",
        "    self.conv8 = nn.Conv2d(128, 32, 3, stride = 1, padding = 1)\n",
        "    self.conv9 = nn.Conv2d(32, 4, 3, stride = 1, padding = 1)\n",
        "    self.conv10 = nn.Conv2d(4, 1, 1, stride = 1, padding = 1)\n",
        "\n",
        "    self.deconv1 = nn.ConvTranspose2d(256, 64, 3, stride = 2, padding = 1, output_padding = 1)\n",
        "    self.deconv2 = nn.ConvTranspose2d(32, 16, 3, stride = 2, padding = 1, output_padding = 1)\n",
        "    \n",
        "  def forward(self, x):\n",
        "\n",
        "    # (?, 4, 28, 28)\n",
        "    out1 = F.relu(self.conv1(x.to(device)), inplace = True)\n",
        "    # (?, 16, 28, 28)\n",
        "    out2 = F.relu(self.conv2(out1), inplace = True)\n",
        "    \n",
        "    # (?, 32, 14, 14)\n",
        "    out3 = F.relu(self.conv3(F.max_pool2d(out2, 2)), inplace = True)\n",
        "    # (?, 64, 14, 14)\n",
        "    out4 = F.relu(self.conv4(out3), inplace = True)\n",
        "    \n",
        "    # (?, 256, 7, 7)\n",
        "    out5 = F.relu(self.conv5(F.max_pool2d(out4, 2)), inplace = True)\n",
        "    # (?, 512, 7, 7)\n",
        "    out6 = F.relu(self.conv6(out5))\n",
        "    # (?, 256, 7, 7)\n",
        "    out7 = F.relu(self.conv7(out6))\n",
        "    \n",
        "    # out4.shape     (?, 64, 14, 14) out8.shape    (?, 64, 14, 14)    -> torch.cat((out4, out8), 1)      (?, 128, 14, 14)\n",
        "    \n",
        "    # (?, 64, 14, 14)\n",
        "    out8 = F.relu(self.deconv1(out7), inplace = True)\n",
        "    # (?, 32, 14, 14)\n",
        "    out9 = F.relu(self.conv8(torch.cat((out4, out8), 1)), inplace = True)\n",
        "    \n",
        "    # (?, 16, 28, 28)\n",
        "    out10 = F.relu(self.deconv2(out9), inplace = True)\n",
        "    # (?, 4, 28, 28)\n",
        "    out11 = F.relu(self.conv9(torch.cat((out2, out10), 1)), inplace = True)\n",
        "    \n",
        "    # (?, 1, 28, 28)\n",
        "    out = F.relu(self.conv10(out11), inplace = True)\n",
        "    \n",
        "    return out\n",
        "  \n",
        "class D(nn.Module):\n",
        "  \n",
        "  def __init__(self):\n",
        "    \n",
        "    super(D, self).__init__()\n",
        "    \n",
        "    self.conv1 = nn.Conv2d(1, 32, 3, stride = 2, padding = 1)\n",
        "    self.conv2 = nn.Conv2d(32, 128, 3, stride = 2, padding = 1)\n",
        "    self.fc = nn.Linear(7 * 7 * 128, 1)\n",
        "    \n",
        "  def forward(self, x):\n",
        "    \n",
        "    out = F.relu(self.conv1(x.to(device)), inplace = True)\n",
        "    out = F.relu(self.conv2(out), inplace = True)\n",
        "    out = out.view(batchSize, -1)\n",
        "    out = F.sigmoid(self.fc(out))\n",
        "    \n",
        "    return out\n",
        "\n",
        "G_df = G().train()\n",
        "G_fd = G().train()\n",
        "D_d = D().train()\n",
        "D_f = D().train()\n",
        "  \n",
        "G_df = G().to(device)\n",
        "G_fd = G().to(device)\n",
        "D_d = D().to(device)\n",
        "D_f = D().to(device)"
      ],
      "execution_count": 0,
      "outputs": []
    },
    {
      "metadata": {
        "id": "ZW1eqRpSWjTX",
        "colab_type": "code",
        "outputId": "fe5d294a-121e-4092-fe27-1541568664d8",
        "colab": {
          "base_uri": "https://localhost:8080/",
          "height": 35
        }
      },
      "cell_type": "code",
      "source": [
        "digit_iter = iter(trainLoaderDIGIT)\n",
        "fashion_iter = iter(trainLoaderFASHION)\n",
        "\n",
        "print('iterNum : ', min(len(digit_iter), len(fashion_iter)))"
      ],
      "execution_count": 0,
      "outputs": [
        {
          "output_type": "stream",
          "text": [
            "iterNum :  469\n"
          ],
          "name": "stdout"
        }
      ]
    },
    {
      "metadata": {
        "id": "xe1QtIqqHVoZ",
        "colab_type": "text"
      },
      "cell_type": "markdown",
      "source": [
        "학습"
      ]
    },
    {
      "metadata": {
        "id": "4j4PUO1LHVJM",
        "colab_type": "code",
        "outputId": "82f3e73c-6571-41fd-b121-8e7dfaf728de",
        "colab": {
          "base_uri": "https://localhost:8080/",
          "height": 413
        }
      },
      "cell_type": "code",
      "source": [
        "G_optimizer = torch.optim.Adam(list(G_df.parameters()) + list(G_fd.parameters()), lr = learningRate)\n",
        "D_optimizer = torch.optim.Adam(list(D_d.parameters()) + list(D_f.parameters()), lr = learningRate)\n",
        "\n",
        "for epoch in range(epochNum):\n",
        " \n",
        "  digit_iter = iter(trainLoaderDIGIT)\n",
        "  fashion_iter = iter(trainLoaderFASHION)\n",
        "\n",
        "  for idx in range(min(len(digit_iter), len(fashion_iter))):\n",
        "\n",
        "    try:\n",
        "      \n",
        "      mnist, _ = digit_iter.next()\n",
        "      fashion, _ = fashion_iter.next()\n",
        "\n",
        "      fakeFashion = G_df(mnist)\n",
        "      fakeDIGIT = G_fd(fashion)\n",
        "\n",
        "      # loss from real data\n",
        "      D_optimizer.zero_grad()\n",
        "      D_loss = torch.mean((D_d(mnist) - 1) ** 2) + torch.mean((D_f(fashion) - 1) ** 2)\n",
        "      D_loss.backward()\n",
        "      D_optimizer.step()\n",
        "      # loss from fake data\n",
        "      D_optimizer.zero_grad()\n",
        "      D_loss = torch.mean(D_d(fakeDIGIT) ** 2) + torch.mean(D_f(fakeFashion) ** 2)\n",
        "      D_loss.backward()\n",
        "      D_optimizer.step()\n",
        "\n",
        "      reconstDIGIT = G_fd(fakeFashion)\n",
        "      reconstFashion = G_fd(fakeDIGIT)\n",
        "\n",
        "      G_optimizer.zero_grad()\n",
        "      G_loss = torch.mean((mnist - reconstDIGIT) ** 2) +  torch.mean((fashion - reconstFashion) ** 2)\n",
        "      G_loss.backward()\n",
        "      G_optimizer.step()\n",
        "\n",
        "      if (idx + 1) % 200 == 0:\n",
        "\n",
        "        print(\"Epoch [{}/{}], step [{}/{}], D_loss : {:.4f}, G_loss {:.4f}\".format(epoch + 1, epochNum, idx + 1, min(len(digit_iter), len(fashion_iter)), D_loss.item(), G_loss.item()))\n",
        "        \n",
        "    except:\n",
        "      \n",
        "      continue\n",
        "      \n",
        "  print(\"Epoch [{}/{}], step [{}/{}], D_loss : {:.4f}, G_loss {:.4f}\".format(epoch + 1, epochNum, idx + 1, min(len(digit_iter), len(fashion_iter)), D_loss.item(), G_loss.item()))"
      ],
      "execution_count": 0,
      "outputs": [
        {
          "output_type": "stream",
          "text": [
            "8\n",
            "9\n",
            "10\n",
            "11\n",
            "12\n",
            "13\n",
            "14\n",
            "15\n",
            "16\n",
            "17\n",
            "18\n",
            "19\n",
            "20\n",
            "21\n",
            "22\n",
            "23\n",
            "24\n",
            "25\n",
            "26\n",
            "27\n",
            "28\n",
            "29\n"
          ],
          "name": "stdout"
        }
      ]
    },
    {
      "metadata": {
        "id": "lZkVZBWgHXjO",
        "colab_type": "text"
      },
      "cell_type": "markdown",
      "source": [
        "테스트"
      ]
    }
  ]
}